{
 "cells": [
  {
   "cell_type": "code",
   "execution_count": 1,
   "metadata": {},
   "outputs": [],
   "source": [
    "from model.dqn_agent import Agent\n",
    "from environment import BananaEnvironment\n",
    "import numpy as np\n",
    "from collections import deque\n",
    "import torch\n",
    "import matplotlib.pyplot as plt\n",
    "import cv2\n",
    "import os.path\n",
    "from os import path"
   ]
  },
  {
   "cell_type": "code",
   "execution_count": 2,
   "metadata": {},
   "outputs": [],
   "source": [
    "# Choose mode, in 'visual' the state is represented by a an 84x84 image of what the agent sees\n",
    "# Otherwise, the state is represented by a 37 elements array\n",
    "mode = 'normal' \n",
    "if mode == 'visual':\n",
    "    env_folder = 'VisualBanana_Linux'\n",
    "    checkpoint_path = \"checkpoints/checkpoint_vis.pth\"   \n",
    "    target_checkpoint_path = \"checkpoints/checkpoint_vis_target.pth\"\n",
    "else:\n",
    "    env_folder = 'Banana_Linux_NoVis'\n",
    "    checkpoint_path = \"checkpoints/checkpoint.pth\"     "
   ]
  },
  {
   "cell_type": "code",
   "execution_count": 3,
   "metadata": {},
   "outputs": [
    {
     "name": "stderr",
     "output_type": "stream",
     "text": [
      "INFO:unityagents:\n",
      "'Academy' started successfully!\n",
      "Unity Academy name: Academy\n",
      "        Number of Brains: 1\n",
      "        Number of External Brains : 1\n",
      "        Lesson number : 0\n",
      "        Reset Parameters :\n",
      "\t\t\n",
      "Unity brain name: BananaBrain\n",
      "        Number of Visual Observations (per agent): 0\n",
      "        Vector Observation space type: continuous\n",
      "        Vector Observation space size (per agent): 37\n",
      "        Number of stacked Vector Observation: 1\n",
      "        Vector Action space type: discrete\n",
      "        Vector Action space size (per agent): 4\n",
      "        Vector Action descriptions: , , , \n"
     ]
    }
   ],
   "source": [
    "# Create agent with environment and training parameters\n",
    "agent = Agent(mode = mode, state_size=37, action_size=4, seed=0,\n",
    "             buffer_size = int(1e5), batch_size = 64, \n",
    "             gamma = 0.99, tau = 1e-3, lr =5e-4, update_every = 4)\n",
    "\n",
    "# Load checkpoints if they exist\n",
    "# if mode == 'visual':\n",
    "#     if(path.exists(checkpoint_path) and path.exists(target_checkpoint_path)):\n",
    "#         print(\"Checkpoint files for visual dqn agent found\")\n",
    "#         agent.qnetwork_local.load_state_dict(torch.load(checkpoint_path))\n",
    "#         agent.qnetwork_target.load_state_dict(torch.load(target_checkpoint_path))        \n",
    "# else:\n",
    "#     if(path.exists(checkpoint_path)):\n",
    "#         print(\"Checkpoint files for dqn agent found\")\n",
    "#         agent.qnetwork_local.load_state_dict(torch.load(checkpoint_path))\n",
    "        \n",
    "# Create Banana game Unity environment\n",
    "env = BananaEnvironment(env_folder)"
   ]
  },
  {
   "cell_type": "code",
   "execution_count": 4,
   "metadata": {},
   "outputs": [
    {
     "name": "stdout",
     "output_type": "stream",
     "text": [
      "Episode 100\tAverage Score: 1.15\n",
      "Episode 200\tAverage Score: 5.15\n",
      "Episode 300\tAverage Score: 7.89\n",
      "Episode 400\tAverage Score: 10.92\n",
      "Episode 500\tAverage Score: 13.95\n",
      "Episode 600\tAverage Score: 14.55\n",
      "Episode 700\tAverage Score: 15.26\n",
      "Episode 800\tAverage Score: 14.91\n",
      "Episode 900\tAverage Score: 14.96\n",
      "Episode 1000\tAverage Score: 15.67\n"
     ]
    },
    {
     "data": {
      "image/png": "[encoded data removed]",
      "text/plain": [
       "<Figure size 432x288 with 1 Axes>"
      ]
     },
     "metadata": {
      "needs_background": "light"
     },
     "output_type": "display_data"
    }
   ],
   "source": [
    "def dqn(n_episodes=1000, max_t=1000, eps_start=1.0, eps_end=0.01, eps_decay=0.995):\n",
    "    \"\"\"Deep Q-Learning.\n",
    "    \n",
    "    Params\n",
    "    ======\n",
    "        n_episodes (int): maximum number of training episodes\n",
    "        max_t (int): maximum number of timesteps per episode\n",
    "        eps_start (float): starting value of epsilon, for epsilon-greedy action selection\n",
    "        eps_end (float): minimum value of epsilon\n",
    "        eps_decay (float): multiplicative factor (per episode) for decreasing epsilon\n",
    "    \"\"\"\n",
    "    scores = []                        # list containing scores from each episode\n",
    "    scores_window = deque(maxlen=100)  # last 100 scores\n",
    "    eps = eps_start                    # initialize epsilon\n",
    "    for i_episode in range(1, n_episodes+1):\n",
    "        state = env.reset()\n",
    "        score = 0\n",
    "        for t in range(max_t):\n",
    "            action = agent.act(state, eps) # Calculate agent from Deep Q-Network\n",
    "            next_state, reward, done, _ = env.step(action) # Perform action and get new state and reward\n",
    "            agent.step(state, action, reward, next_state, done) # Perform agent step (save experience and learn every n steps)\n",
    "            state = next_state\n",
    "            score += reward\n",
    "            if done:\n",
    "                break \n",
    "        scores_window.append(score)       # save most recent score\n",
    "        scores.append(score)              # save most recent score\n",
    "        eps = max(eps_end, eps_decay*eps) # decrease epsilon\n",
    "        print('\\rEpisode {}\\tAverage Score: {:.2f}'.format(i_episode, np.mean(scores_window)), end=\"\")\n",
    "        if i_episode % 100 == 0:\n",
    "            print('\\rEpisode {}\\tAverage Score: {:.2f}'.format(i_episode, np.mean(scores_window)))\n",
    "        if np.mean(scores_window)>=16.0:  # If environment, solved, save network weights\n",
    "            print('\\nEnvironment solved in {:d} episodes!\\tAverage Score: {:.2f}'.format(i_episode-100, np.mean(scores_window)))\n",
    "            torch.save(agent.qnetwork_local.state_dict(), checkpoint_path)\n",
    "            np.savez(\"scores.npz\",np.array(scores))\n",
    "            break\n",
    "    torch.save(agent.qnetwork_local.state_dict(), checkpoint_path)\n",
    "    \n",
    "    return scores\n",
    "\n",
    "# Train the dqn agent and plot scores during training\n",
    "scores = dqn()\n",
    "env.close()\n",
    "# plot the scores\n",
    "fig = plt.figure()\n",
    "ax = fig.add_subplot(111)\n",
    "plt.plot(np.arange(len(scores)), scores)\n",
    "plt.ylabel('Score')\n",
    "plt.xlabel('Episode #')\n",
    "plt.show()"
   ]
  }
 ],
 "metadata": {
  "kernelspec": {
   "display_name": "drlnd",
   "language": "python",
   "name": "drlnd"
  },
  "language_info": {
   "codemirror_mode": {
    "name": "ipython",
    "version": 3
   },
   "file_extension": ".py",
   "mimetype": "text/x-python",
   "name": "python",
   "nbconvert_exporter": "python",
   "pygments_lexer": "ipython3",
   "version": "3.6.10"
  }
 },
 "nbformat": 4,
 "nbformat_minor": 4
}
